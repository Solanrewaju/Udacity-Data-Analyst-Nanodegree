{
 "cells": [
  {
   "cell_type": "markdown",
   "metadata": {},
   "source": [
    "# Investigate a Dataset- Identifying Factors that Predict Missed Appointment Among Patients in Brazil\n",
    "\n",
    "## Table of Contents\n",
    "<ul>\n",
    "<li><a href=\"#intro\">Introduction</a></li>\n",
    "<li><a href=\"#question\">Questions</a></li> \n",
    "<li><a href=\"#wrangling\">Data Wrangling</a></li>\n",
    "<li><a href=\"#eda\">Exploratory Data Analysis and Draw Conclusions</a></li>\n",
    "<li><a href=\"#conclusions\">Conclusions</a></li>\n",
    "</ul>"
   ]
  },
  {
   "cell_type": "markdown",
   "metadata": {},
   "source": [
    "<a id='intro'></a>\n",
    "## Introduction\n",
    "\n",
    "In this project, I analysed the *[no-show appointments](https://docs.google.com/document/d/e/2PACX-1vTlVmknRRnfy_4eTrjw5hYGaiQim5ctr9naaRd4V9du2B5bxpd8FEH3KtDgp8qVekw7Cj1GLk1IXdZi/pub)* dataset to identify factors that predicts if a patient will show-up for scheduled appointment.\n",
    "### Dataset\n",
    "The *No-show appointments* dataset collects information from 100,000 medical appointments in Brazil. A number of\n",
    "characteristics about the patient are included in each row. The variable included in the dataset are *patient ID, appointment ID, gender, scheduled day, appointment day, neighbourhood, scholarship, hypentention, diabetes, alcoholism, handicap, SMS received and no-show*. \n",
    "* *ScheduledDay* tells us on what day the patient set up their appointment.\n",
    "* *Neighborhood* indicates the location of the hospital.\n",
    "* *Scholarship* indicates whether or not the patient is enrolled in Brasilian welfare program [Bolsa Família](https://en.wikipedia.org/wiki/Bolsa_Fam%C3%ADlia).<br>\n",
    "\n",
    "Note that the 'No-show' column says ‘No’ if the patient showed up to their appointment, and ‘Yes’ if they did not show up.\n",
    "\n",
    "### Analysis Approach\n",
    "This analysis was done systematically using 5-step approach.\n",
    "1. **Questions:** In this step, I choose a dataset and brainstormed some questions I could answer using the chosen dataset. I ensured the questions were SMART.\n",
    "2. **Wrangling:** Gathered, assessed and cleaned data using *pandas* and *numpy* libraries in *Python*\n",
    "3. **Exploratory Data Analysis (EDA):** Explored the data and created visuals to get clarity of the dataset and maximise the potential of the analysis.*pandas*, *numpy* and *matplotlib* libraries in *Python*\n",
    "4. **Draw Conclusions:** Intepreted the result from the visualisations and descriptive statistical analysis done. This step was done concurrently with EDA.\n",
    "5. **Communicate:** Communicated insights in this *Jupyter Notebook*."
   ]
  },
  {
   "cell_type": "markdown",
   "metadata": {},
   "source": [
    "<a id='question'></a>\n",
    "## Questions\n",
    "In this step, I choose a dataset and brainstormed some questions I could answer using the chosen dataset. The *no-show appointments* dataset was analysed to answer the following questions:\n",
    "1. **What factors are important to predict if a patient will show up for scheduled appointment?**\n",
    "2. **Is duration (appointment day - scheduled day) associated with no-show?**"
   ]
  },
  {
   "cell_type": "code",
   "execution_count": 1,
   "metadata": {},
   "outputs": [],
   "source": [
    "# import packages that will be used for analysis\n",
    "\n",
    "import numpy as np\n",
    "import pandas as pd\n",
    "import matplotlib.pyplot as plt\n",
    "import seaborn as sns\n",
    "%matplotlib inline"
   ]
  },
  {
   "cell_type": "markdown",
   "metadata": {},
   "source": [
    "<a id='wrangling'></a>\n",
    "## Data Wrangling\n",
    "In this section, the dataset was loaded, checked for cleanliness, and trimmed and cleaned for analysis.\n",
    "### General Properties"
   ]
  },
  {
   "cell_type": "code",
   "execution_count": 2,
   "metadata": {
    "scrolled": true
   },
   "outputs": [
    {
     "data": {
      "text/html": [
       "<div>\n",
       "<style scoped>\n",
       "    .dataframe tbody tr th:only-of-type {\n",
       "        vertical-align: middle;\n",
       "    }\n",
       "\n",
       "    .dataframe tbody tr th {\n",
       "        vertical-align: top;\n",
       "    }\n",
       "\n",
       "    .dataframe thead th {\n",
       "        text-align: right;\n",
       "    }\n",
       "</style>\n",
       "<table border=\"1\" class=\"dataframe\">\n",
       "  <thead>\n",
       "    <tr style=\"text-align: right;\">\n",
       "      <th></th>\n",
       "      <th>PatientId</th>\n",
       "      <th>AppointmentID</th>\n",
       "      <th>Gender</th>\n",
       "      <th>ScheduledDay</th>\n",
       "      <th>AppointmentDay</th>\n",
       "      <th>Age</th>\n",
       "      <th>Neighbourhood</th>\n",
       "      <th>Scholarship</th>\n",
       "      <th>Hipertension</th>\n",
       "      <th>Diabetes</th>\n",
       "      <th>Alcoholism</th>\n",
       "      <th>Handcap</th>\n",
       "      <th>SMS_received</th>\n",
       "      <th>No-show</th>\n",
       "    </tr>\n",
       "  </thead>\n",
       "  <tbody>\n",
       "    <tr>\n",
       "      <th>0</th>\n",
       "      <td>2.987250e+13</td>\n",
       "      <td>5642903</td>\n",
       "      <td>F</td>\n",
       "      <td>2016-04-29T18:38:08Z</td>\n",
       "      <td>2016-04-29T00:00:00Z</td>\n",
       "      <td>62</td>\n",
       "      <td>JARDIM DA PENHA</td>\n",
       "      <td>0</td>\n",
       "      <td>1</td>\n",
       "      <td>0</td>\n",
       "      <td>0</td>\n",
       "      <td>0</td>\n",
       "      <td>0</td>\n",
       "      <td>No</td>\n",
       "    </tr>\n",
       "    <tr>\n",
       "      <th>1</th>\n",
       "      <td>5.589978e+14</td>\n",
       "      <td>5642503</td>\n",
       "      <td>M</td>\n",
       "      <td>2016-04-29T16:08:27Z</td>\n",
       "      <td>2016-04-29T00:00:00Z</td>\n",
       "      <td>56</td>\n",
       "      <td>JARDIM DA PENHA</td>\n",
       "      <td>0</td>\n",
       "      <td>0</td>\n",
       "      <td>0</td>\n",
       "      <td>0</td>\n",
       "      <td>0</td>\n",
       "      <td>0</td>\n",
       "      <td>No</td>\n",
       "    </tr>\n",
       "    <tr>\n",
       "      <th>2</th>\n",
       "      <td>4.262962e+12</td>\n",
       "      <td>5642549</td>\n",
       "      <td>F</td>\n",
       "      <td>2016-04-29T16:19:04Z</td>\n",
       "      <td>2016-04-29T00:00:00Z</td>\n",
       "      <td>62</td>\n",
       "      <td>MATA DA PRAIA</td>\n",
       "      <td>0</td>\n",
       "      <td>0</td>\n",
       "      <td>0</td>\n",
       "      <td>0</td>\n",
       "      <td>0</td>\n",
       "      <td>0</td>\n",
       "      <td>No</td>\n",
       "    </tr>\n",
       "    <tr>\n",
       "      <th>3</th>\n",
       "      <td>8.679512e+11</td>\n",
       "      <td>5642828</td>\n",
       "      <td>F</td>\n",
       "      <td>2016-04-29T17:29:31Z</td>\n",
       "      <td>2016-04-29T00:00:00Z</td>\n",
       "      <td>8</td>\n",
       "      <td>PONTAL DE CAMBURI</td>\n",
       "      <td>0</td>\n",
       "      <td>0</td>\n",
       "      <td>0</td>\n",
       "      <td>0</td>\n",
       "      <td>0</td>\n",
       "      <td>0</td>\n",
       "      <td>No</td>\n",
       "    </tr>\n",
       "    <tr>\n",
       "      <th>4</th>\n",
       "      <td>8.841186e+12</td>\n",
       "      <td>5642494</td>\n",
       "      <td>F</td>\n",
       "      <td>2016-04-29T16:07:23Z</td>\n",
       "      <td>2016-04-29T00:00:00Z</td>\n",
       "      <td>56</td>\n",
       "      <td>JARDIM DA PENHA</td>\n",
       "      <td>0</td>\n",
       "      <td>1</td>\n",
       "      <td>1</td>\n",
       "      <td>0</td>\n",
       "      <td>0</td>\n",
       "      <td>0</td>\n",
       "      <td>No</td>\n",
       "    </tr>\n",
       "  </tbody>\n",
       "</table>\n",
       "</div>"
      ],
      "text/plain": [
       "      PatientId  AppointmentID Gender          ScheduledDay  \\\n",
       "0  2.987250e+13        5642903      F  2016-04-29T18:38:08Z   \n",
       "1  5.589978e+14        5642503      M  2016-04-29T16:08:27Z   \n",
       "2  4.262962e+12        5642549      F  2016-04-29T16:19:04Z   \n",
       "3  8.679512e+11        5642828      F  2016-04-29T17:29:31Z   \n",
       "4  8.841186e+12        5642494      F  2016-04-29T16:07:23Z   \n",
       "\n",
       "         AppointmentDay  Age      Neighbourhood  Scholarship  Hipertension  \\\n",
       "0  2016-04-29T00:00:00Z   62    JARDIM DA PENHA            0             1   \n",
       "1  2016-04-29T00:00:00Z   56    JARDIM DA PENHA            0             0   \n",
       "2  2016-04-29T00:00:00Z   62      MATA DA PRAIA            0             0   \n",
       "3  2016-04-29T00:00:00Z    8  PONTAL DE CAMBURI            0             0   \n",
       "4  2016-04-29T00:00:00Z   56    JARDIM DA PENHA            0             1   \n",
       "\n",
       "   Diabetes  Alcoholism  Handcap  SMS_received No-show  \n",
       "0         0           0        0             0      No  \n",
       "1         0           0        0             0      No  \n",
       "2         0           0        0             0      No  \n",
       "3         0           0        0             0      No  \n",
       "4         1           0        0             0      No  "
      ]
     },
     "execution_count": 2,
     "metadata": {},
     "output_type": "execute_result"
    }
   ],
   "source": [
    "# Load dataset and print out a few lines.\n",
    "df = pd.read_csv('Dataset_No_Show_Appointment.csv')\n",
    "df.head()\n",
    "\n",
    "#hint: df = pd.read_csv('Dataset_No_Show_Appointment.csv', parse_dates = ['ScheduledDay', 'AppointmentDay'])\n",
    "#con: knowing the column to parse as datetime beforehand"
   ]
  },
  {
   "cell_type": "code",
   "execution_count": 3,
   "metadata": {},
   "outputs": [
    {
     "data": {
      "text/plain": [
       "(110527, 14)"
      ]
     },
     "execution_count": 3,
     "metadata": {},
     "output_type": "execute_result"
    }
   ],
   "source": [
    "#Assess number of samples and columns in dataset\n",
    "df.shape"
   ]
  },
  {
   "cell_type": "code",
   "execution_count": 4,
   "metadata": {
    "scrolled": false
   },
   "outputs": [
    {
     "data": {
      "text/html": [
       "<div>\n",
       "<style scoped>\n",
       "    .dataframe tbody tr th:only-of-type {\n",
       "        vertical-align: middle;\n",
       "    }\n",
       "\n",
       "    .dataframe tbody tr th {\n",
       "        vertical-align: top;\n",
       "    }\n",
       "\n",
       "    .dataframe thead th {\n",
       "        text-align: right;\n",
       "    }\n",
       "</style>\n",
       "<table border=\"1\" class=\"dataframe\">\n",
       "  <thead>\n",
       "    <tr style=\"text-align: right;\">\n",
       "      <th></th>\n",
       "      <th>PatientId</th>\n",
       "      <th>AppointmentID</th>\n",
       "      <th>Age</th>\n",
       "      <th>Scholarship</th>\n",
       "      <th>Hipertension</th>\n",
       "      <th>Diabetes</th>\n",
       "      <th>Alcoholism</th>\n",
       "      <th>Handcap</th>\n",
       "      <th>SMS_received</th>\n",
       "    </tr>\n",
       "  </thead>\n",
       "  <tbody>\n",
       "    <tr>\n",
       "      <th>count</th>\n",
       "      <td>1.105270e+05</td>\n",
       "      <td>1.105270e+05</td>\n",
       "      <td>110527.000000</td>\n",
       "      <td>110527.000000</td>\n",
       "      <td>110527.000000</td>\n",
       "      <td>110527.000000</td>\n",
       "      <td>110527.000000</td>\n",
       "      <td>110527.000000</td>\n",
       "      <td>110527.000000</td>\n",
       "    </tr>\n",
       "    <tr>\n",
       "      <th>mean</th>\n",
       "      <td>1.474963e+14</td>\n",
       "      <td>5.675305e+06</td>\n",
       "      <td>37.088874</td>\n",
       "      <td>0.098266</td>\n",
       "      <td>0.197246</td>\n",
       "      <td>0.071865</td>\n",
       "      <td>0.030400</td>\n",
       "      <td>0.022248</td>\n",
       "      <td>0.321026</td>\n",
       "    </tr>\n",
       "    <tr>\n",
       "      <th>std</th>\n",
       "      <td>2.560949e+14</td>\n",
       "      <td>7.129575e+04</td>\n",
       "      <td>23.110205</td>\n",
       "      <td>0.297675</td>\n",
       "      <td>0.397921</td>\n",
       "      <td>0.258265</td>\n",
       "      <td>0.171686</td>\n",
       "      <td>0.161543</td>\n",
       "      <td>0.466873</td>\n",
       "    </tr>\n",
       "    <tr>\n",
       "      <th>min</th>\n",
       "      <td>3.921784e+04</td>\n",
       "      <td>5.030230e+06</td>\n",
       "      <td>-1.000000</td>\n",
       "      <td>0.000000</td>\n",
       "      <td>0.000000</td>\n",
       "      <td>0.000000</td>\n",
       "      <td>0.000000</td>\n",
       "      <td>0.000000</td>\n",
       "      <td>0.000000</td>\n",
       "    </tr>\n",
       "    <tr>\n",
       "      <th>25%</th>\n",
       "      <td>4.172614e+12</td>\n",
       "      <td>5.640286e+06</td>\n",
       "      <td>18.000000</td>\n",
       "      <td>0.000000</td>\n",
       "      <td>0.000000</td>\n",
       "      <td>0.000000</td>\n",
       "      <td>0.000000</td>\n",
       "      <td>0.000000</td>\n",
       "      <td>0.000000</td>\n",
       "    </tr>\n",
       "    <tr>\n",
       "      <th>50%</th>\n",
       "      <td>3.173184e+13</td>\n",
       "      <td>5.680573e+06</td>\n",
       "      <td>37.000000</td>\n",
       "      <td>0.000000</td>\n",
       "      <td>0.000000</td>\n",
       "      <td>0.000000</td>\n",
       "      <td>0.000000</td>\n",
       "      <td>0.000000</td>\n",
       "      <td>0.000000</td>\n",
       "    </tr>\n",
       "    <tr>\n",
       "      <th>75%</th>\n",
       "      <td>9.439172e+13</td>\n",
       "      <td>5.725524e+06</td>\n",
       "      <td>55.000000</td>\n",
       "      <td>0.000000</td>\n",
       "      <td>0.000000</td>\n",
       "      <td>0.000000</td>\n",
       "      <td>0.000000</td>\n",
       "      <td>0.000000</td>\n",
       "      <td>1.000000</td>\n",
       "    </tr>\n",
       "    <tr>\n",
       "      <th>max</th>\n",
       "      <td>9.999816e+14</td>\n",
       "      <td>5.790484e+06</td>\n",
       "      <td>115.000000</td>\n",
       "      <td>1.000000</td>\n",
       "      <td>1.000000</td>\n",
       "      <td>1.000000</td>\n",
       "      <td>1.000000</td>\n",
       "      <td>4.000000</td>\n",
       "      <td>1.000000</td>\n",
       "    </tr>\n",
       "  </tbody>\n",
       "</table>\n",
       "</div>"
      ],
      "text/plain": [
       "          PatientId  AppointmentID            Age    Scholarship  \\\n",
       "count  1.105270e+05   1.105270e+05  110527.000000  110527.000000   \n",
       "mean   1.474963e+14   5.675305e+06      37.088874       0.098266   \n",
       "std    2.560949e+14   7.129575e+04      23.110205       0.297675   \n",
       "min    3.921784e+04   5.030230e+06      -1.000000       0.000000   \n",
       "25%    4.172614e+12   5.640286e+06      18.000000       0.000000   \n",
       "50%    3.173184e+13   5.680573e+06      37.000000       0.000000   \n",
       "75%    9.439172e+13   5.725524e+06      55.000000       0.000000   \n",
       "max    9.999816e+14   5.790484e+06     115.000000       1.000000   \n",
       "\n",
       "        Hipertension       Diabetes     Alcoholism        Handcap  \\\n",
       "count  110527.000000  110527.000000  110527.000000  110527.000000   \n",
       "mean        0.197246       0.071865       0.030400       0.022248   \n",
       "std         0.397921       0.258265       0.171686       0.161543   \n",
       "min         0.000000       0.000000       0.000000       0.000000   \n",
       "25%         0.000000       0.000000       0.000000       0.000000   \n",
       "50%         0.000000       0.000000       0.000000       0.000000   \n",
       "75%         0.000000       0.000000       0.000000       0.000000   \n",
       "max         1.000000       1.000000       1.000000       4.000000   \n",
       "\n",
       "        SMS_received  \n",
       "count  110527.000000  \n",
       "mean        0.321026  \n",
       "std         0.466873  \n",
       "min         0.000000  \n",
       "25%         0.000000  \n",
       "50%         0.000000  \n",
       "75%         1.000000  \n",
       "max         1.000000  "
      ]
     },
     "execution_count": 4,
     "metadata": {},
     "output_type": "execute_result"
    }
   ],
   "source": [
    "#Assess range of each variable and get hit into its datatype\n",
    "df.describe()"
   ]
  },
  {
   "cell_type": "code",
   "execution_count": 5,
   "metadata": {},
   "outputs": [
    {
     "name": "stdout",
     "output_type": "stream",
     "text": [
      "<class 'pandas.core.frame.DataFrame'>\n",
      "RangeIndex: 110527 entries, 0 to 110526\n",
      "Data columns (total 14 columns):\n",
      " #   Column          Non-Null Count   Dtype  \n",
      "---  ------          --------------   -----  \n",
      " 0   PatientId       110527 non-null  float64\n",
      " 1   AppointmentID   110527 non-null  int64  \n",
      " 2   Gender          110527 non-null  object \n",
      " 3   ScheduledDay    110527 non-null  object \n",
      " 4   AppointmentDay  110527 non-null  object \n",
      " 5   Age             110527 non-null  int64  \n",
      " 6   Neighbourhood   110527 non-null  object \n",
      " 7   Scholarship     110527 non-null  int64  \n",
      " 8   Hipertension    110527 non-null  int64  \n",
      " 9   Diabetes        110527 non-null  int64  \n",
      " 10  Alcoholism      110527 non-null  int64  \n",
      " 11  Handcap         110527 non-null  int64  \n",
      " 12  SMS_received    110527 non-null  int64  \n",
      " 13  No-show         110527 non-null  object \n",
      "dtypes: float64(1), int64(8), object(5)\n",
      "memory usage: 11.8+ MB\n"
     ]
    }
   ],
   "source": [
    "# inspect datatype of columns and check for nulls\n",
    "df.info()"
   ]
  },
  {
   "cell_type": "code",
   "execution_count": 6,
   "metadata": {},
   "outputs": [
    {
     "data": {
      "text/plain": [
       "0"
      ]
     },
     "execution_count": 6,
     "metadata": {},
     "output_type": "execute_result"
    }
   ],
   "source": [
    "#check for duplicates\n",
    "df.duplicated().sum()"
   ]
  },
  {
   "cell_type": "code",
   "execution_count": 7,
   "metadata": {
    "scrolled": true
   },
   "outputs": [
    {
     "data": {
      "text/plain": [
       "PatientId          62299\n",
       "AppointmentID     110527\n",
       "Gender                 2\n",
       "ScheduledDay      103549\n",
       "AppointmentDay        27\n",
       "Age                  104\n",
       "Neighbourhood         81\n",
       "Scholarship            2\n",
       "Hipertension           2\n",
       "Diabetes               2\n",
       "Alcoholism             2\n",
       "Handcap                5\n",
       "SMS_received           2\n",
       "No-show                2\n",
       "dtype: int64"
      ]
     },
     "execution_count": 7,
     "metadata": {},
     "output_type": "execute_result"
    }
   ],
   "source": [
    "#Assess for uniqueness and category of unique value in each column\n",
    "df.nunique()"
   ]
  },
  {
   "cell_type": "code",
   "execution_count": 8,
   "metadata": {},
   "outputs": [
    {
     "data": {
      "text/plain": [
       "0    108286\n",
       "1      2042\n",
       "2       183\n",
       "3        13\n",
       "4         3\n",
       "Name: Handcap, dtype: int64"
      ]
     },
     "execution_count": 8,
     "metadata": {},
     "output_type": "execute_result"
    }
   ],
   "source": [
    "df['Handcap'].value_counts()"
   ]
  },
  {
   "cell_type": "code",
   "execution_count": 9,
   "metadata": {},
   "outputs": [
    {
     "data": {
      "text/plain": [
       "array(['JARDIM DA PENHA', 'MATA DA PRAIA', 'PONTAL DE CAMBURI',\n",
       "       'REPÚBLICA', 'GOIABEIRAS', 'ANDORINHAS', 'CONQUISTA',\n",
       "       'NOVA PALESTINA', 'DA PENHA', 'TABUAZEIRO', 'BENTO FERREIRA',\n",
       "       'SÃO PEDRO', 'SANTA MARTHA', 'SÃO CRISTÓVÃO', 'MARUÍPE',\n",
       "       'GRANDE VITÓRIA', 'SÃO BENEDITO', 'ILHA DAS CAIEIRAS',\n",
       "       'SANTO ANDRÉ', 'SOLON BORGES', 'BONFIM', 'JARDIM CAMBURI',\n",
       "       'MARIA ORTIZ', 'JABOUR', 'ANTÔNIO HONÓRIO', 'RESISTÊNCIA',\n",
       "       'ILHA DE SANTA MARIA', 'JUCUTUQUARA', 'MONTE BELO',\n",
       "       'MÁRIO CYPRESTE', 'SANTO ANTÔNIO', 'BELA VISTA', 'PRAIA DO SUÁ',\n",
       "       'SANTA HELENA', 'ITARARÉ', 'INHANGUETÁ', 'UNIVERSITÁRIO',\n",
       "       'SÃO JOSÉ', 'REDENÇÃO', 'SANTA CLARA', 'CENTRO', 'PARQUE MOSCOSO',\n",
       "       'DO MOSCOSO', 'SANTOS DUMONT', 'CARATOÍRA', 'ARIOVALDO FAVALESSA',\n",
       "       'ILHA DO FRADE', 'GURIGICA', 'JOANA D´ARC', 'CONSOLAÇÃO',\n",
       "       'PRAIA DO CANTO', 'BOA VISTA', 'MORADA DE CAMBURI', 'SANTA LUÍZA',\n",
       "       'SANTA LÚCIA', 'BARRO VERMELHO', 'ESTRELINHA', 'FORTE SÃO JOÃO',\n",
       "       'FONTE GRANDE', 'ENSEADA DO SUÁ', 'SANTOS REIS', 'PIEDADE',\n",
       "       'JESUS DE NAZARETH', 'SANTA TEREZA', 'CRUZAMENTO',\n",
       "       'ILHA DO PRÍNCIPE', 'ROMÃO', 'COMDUSA', 'SANTA CECÍLIA',\n",
       "       'VILA RUBIM', 'DE LOURDES', 'DO QUADRO', 'DO CABRAL', 'HORTO',\n",
       "       'SEGURANÇA DO LAR', 'ILHA DO BOI', 'FRADINHOS', 'NAZARETH',\n",
       "       'AEROPORTO', 'ILHAS OCEÂNICAS DE TRINDADE', 'PARQUE INDUSTRIAL'],\n",
       "      dtype=object)"
      ]
     },
     "execution_count": 9,
     "metadata": {},
     "output_type": "execute_result"
    }
   ],
   "source": [
    "# check for duplicates due to spelling error etc\n",
    "df.Neighbourhood.unique()"
   ]
  },
  {
   "cell_type": "markdown",
   "metadata": {
    "collapsed": true
   },
   "source": [
    "This dataset has 110,527 rows and 14 columns.\n",
    "\n",
    "**Data Dictionary**\n",
    "\n",
    "| Column | Datatype | Description |\n",
    "| --- | --- | --- |\n",
    "| PatientId | Float | Identification of a patient |\n",
    "| AppointmentID | Int | Identification of each appointment |\n",
    "| Gender | Object | M - Male or F - Female |\n",
    "| ScheduledDay | Object | The day someone called or registered the appointment |\n",
    "| AppointmentDay | Object | The day of the actual appointment, when they have to visit the hospital |\n",
    "| Age | Int | How old is the patient in years. |\n",
    "| Neighbourhood | Object | Where the hospital is located |\n",
    "| Scholarship | Int | indicates whether or not the patient is enrolled in Brasilian <br> welfare program Bolsa Família. 0 - True or 1 - False |\n",
    "| Hipertension | Int | 0 - True or 1 - False|\n",
    "| Diabetes | Int | 0 - True or 1 - False|\n",
    "| Alcoholism | Int | 0 - True or 1 - False |\n",
    "| Handcap | Int | 0, 1, 2, 3, 4 - there was no dictionary explaining what each represents|\n",
    "| SMS_received | Int | 1 or more messages sent to the patient: 0 - True, 1 - False |\n",
    "| No-show | Object | No - Show or Yes - No Show |\n",
    "\n",
    "> Information about the dataset was found at <a href=\"https://www.kaggle.com/joniarroba/noshowappointments/data\" target=\"_blank\">here</a> and <a href=\"https://docs.google.com/document/d/e/2PACX-1vTlVmknRRnfy_4eTrjw5hYGaiQim5ctr9naaRd4V9du2B5bxpd8FEH3KtDgp8qVekw7Cj1GLk1IXdZi/pub?embedded=True\" target=\"_blank\">here</a>\n"
   ]
  },
  {
   "cell_type": "markdown",
   "metadata": {
    "collapsed": true
   },
   "source": [
    "### Data Cleaning: No-Missed Appointment Dataset\n",
    "**Notes for Cleaning**\n",
    "\n",
    "1. Rename Columns <br> a. Spelling of 'hipertension' and 'handcap' <br> b. Use snake case for scheduled day, appointment day and no-show <br> c. Change all header to lower case\n",
    "\n",
    "2. Implausible data <br> Negative age: as seen in minimum value in describe, it is not possible for age to be -1\n",
    "\n",
    "3. Nulls <br> No null in dataset\n",
    "\n",
    "4. Change Datatype <br> The datatype of some variables is not a fit for the variable. Therefore change: <br> a. PatientId: float to sting <br> b. Appointmentid: int to string <br> c. scheduled day*: Object to date object <br> d. appointment day*: object to date object <br> e. scholarship, hypertension, diabetes, alcohlism, handicap, SMS_received: from int to object\n",
    "\n",
    ">Thought to change the datatype as they are categorical variable. This affected the type of analysis I could do...\n",
    "\n",
    "5. Check for duplicates <br> No duplicates in dataset\n",
    "\n",
    "6. check for uniqueness <br> No wrong spelling or duplicate of same category in columns\n",
    "\n",
    "7. Drop columns or not? <br> I decided against dropping columns as I can't tell what column will be correlated. From the dataset info, it is obvious there were patients with multiple appointments. One might want to study patient appointment outcome in multiple appointments.\n",
    "\n",
    "**For Analysis**\n",
    "\n",
    "1. consider creating derived column- duration (calculated as Appointment day - scheduled day\n",
    "2. categorise age into 5-years bands for analysis\n"
   ]
  },
  {
   "cell_type": "code",
   "execution_count": 10,
   "metadata": {},
   "outputs": [
    {
     "data": {
      "text/html": [
       "<div>\n",
       "<style scoped>\n",
       "    .dataframe tbody tr th:only-of-type {\n",
       "        vertical-align: middle;\n",
       "    }\n",
       "\n",
       "    .dataframe tbody tr th {\n",
       "        vertical-align: top;\n",
       "    }\n",
       "\n",
       "    .dataframe thead th {\n",
       "        text-align: right;\n",
       "    }\n",
       "</style>\n",
       "<table border=\"1\" class=\"dataframe\">\n",
       "  <thead>\n",
       "    <tr style=\"text-align: right;\">\n",
       "      <th></th>\n",
       "      <th>patient_id</th>\n",
       "      <th>appointment_id</th>\n",
       "      <th>gender</th>\n",
       "      <th>scheduled_day</th>\n",
       "      <th>appointment_day</th>\n",
       "      <th>age</th>\n",
       "      <th>neighbourhood</th>\n",
       "      <th>scholarship</th>\n",
       "      <th>hypertension</th>\n",
       "      <th>diabetes</th>\n",
       "      <th>alcoholism</th>\n",
       "      <th>handicap</th>\n",
       "      <th>sms_received</th>\n",
       "      <th>no_show</th>\n",
       "    </tr>\n",
       "  </thead>\n",
       "  <tbody>\n",
       "    <tr>\n",
       "      <th>0</th>\n",
       "      <td>2.987250e+13</td>\n",
       "      <td>5642903</td>\n",
       "      <td>F</td>\n",
       "      <td>2016-04-29T18:38:08Z</td>\n",
       "      <td>2016-04-29T00:00:00Z</td>\n",
       "      <td>62</td>\n",
       "      <td>JARDIM DA PENHA</td>\n",
       "      <td>0</td>\n",
       "      <td>1</td>\n",
       "      <td>0</td>\n",
       "      <td>0</td>\n",
       "      <td>0</td>\n",
       "      <td>0</td>\n",
       "      <td>No</td>\n",
       "    </tr>\n",
       "  </tbody>\n",
       "</table>\n",
       "</div>"
      ],
      "text/plain": [
       "     patient_id  appointment_id gender         scheduled_day  \\\n",
       "0  2.987250e+13         5642903      F  2016-04-29T18:38:08Z   \n",
       "\n",
       "        appointment_day  age    neighbourhood  scholarship  hypertension  \\\n",
       "0  2016-04-29T00:00:00Z   62  JARDIM DA PENHA            0             1   \n",
       "\n",
       "   diabetes  alcoholism  handicap  sms_received no_show  \n",
       "0         0           0         0             0      No  "
      ]
     },
     "execution_count": 10,
     "metadata": {},
     "output_type": "execute_result"
    }
   ],
   "source": [
    "# rename Columns\n",
    "df.rename(columns = {'PatientId':'Patient_ID', 'AppointmentID': 'Appointment_ID',\n",
    "                     'ScheduledDay': 'Scheduled_Day','AppointmentDay':'Appointment_Day', \n",
    "                     'Hipertension':'Hypertension', 'Handcap': 'Handicap', 'No-show': 'No_show'}, inplace = True)\n",
    "\n",
    "# use lower case label\n",
    "df.rename(columns=lambda x: x.lower(), inplace=True)\n",
    "\n",
    "# confirm changes\n",
    "df.head(1)"
   ]
  },
  {
   "cell_type": "code",
   "execution_count": 11,
   "metadata": {
    "scrolled": true
   },
   "outputs": [
    {
     "data": {
      "text/plain": [
       "count    110526.000000\n",
       "mean         37.089219\n",
       "std          23.110026\n",
       "min           0.000000\n",
       "25%          18.000000\n",
       "50%          37.000000\n",
       "75%          55.000000\n",
       "max         115.000000\n",
       "Name: age, dtype: float64"
      ]
     },
     "execution_count": 11,
     "metadata": {},
     "output_type": "execute_result"
    }
   ],
   "source": [
    "# drop row with implausible age (-1)\n",
    "df.drop( df[ df['age'] == -1 ].index , inplace=True)\n",
    "\n",
    "# confirm changes\n",
    "df['age'].describe()"
   ]
  },
  {
   "cell_type": "code",
   "execution_count": 12,
   "metadata": {},
   "outputs": [
    {
     "name": "stdout",
     "output_type": "stream",
     "text": [
      "<class 'pandas.core.frame.DataFrame'>\n",
      "Int64Index: 110526 entries, 0 to 110526\n",
      "Data columns (total 14 columns):\n",
      " #   Column           Non-Null Count   Dtype              \n",
      "---  ------           --------------   -----              \n",
      " 0   patient_id       110526 non-null  object             \n",
      " 1   appointment_id   110526 non-null  object             \n",
      " 2   gender           110526 non-null  object             \n",
      " 3   scheduled_day    110526 non-null  datetime64[ns, UTC]\n",
      " 4   appointment_day  110526 non-null  datetime64[ns, UTC]\n",
      " 5   age              110526 non-null  int64              \n",
      " 6   neighbourhood    110526 non-null  object             \n",
      " 7   scholarship      110526 non-null  object             \n",
      " 8   hypertension     110526 non-null  object             \n",
      " 9   diabetes         110526 non-null  object             \n",
      " 10  alcoholism       110526 non-null  object             \n",
      " 11  handicap         110526 non-null  object             \n",
      " 12  sms_received     110526 non-null  object             \n",
      " 13  no_show          110526 non-null  object             \n",
      "dtypes: datetime64[ns, UTC](2), int64(1), object(11)\n",
      "memory usage: 12.6+ MB\n"
     ]
    }
   ],
   "source": [
    "# Change datatype\n",
    "\n",
    "# change float to int\n",
    "df['patient_id'] = df['patient_id'].astype(int)\n",
    "\n",
    "# change int to strings\n",
    "int_columns = ['patient_id', 'appointment_id']\n",
    "for c in int_columns:\n",
    "    df[c] = df[c].astype(str)\n",
    "\n",
    "# change string to datetime\n",
    "\n",
    "datetime_columns = ['scheduled_day', 'appointment_day']\n",
    "for c in datetime_columns:\n",
    "    df[c] = pd.to_datetime(df[c])\n",
    "    \n",
    "\n",
    "# convert int to categorical\n",
    "\n",
    "int_columns = ['scholarship', 'hypertension', 'alcoholism', 'diabetes', 'handicap', 'sms_received', 'no_show']\n",
    "               \n",
    "for c in int_columns:\n",
    "    df[c] = df[c].astype('str')\n",
    "\n",
    "    \n",
    "#confirm changes\n",
    "df.info()"
   ]
  },
  {
   "cell_type": "code",
   "execution_count": 13,
   "metadata": {},
   "outputs": [
    {
     "data": {
      "text/plain": [
       "-1.0      38562\n",
       " 1.0       6725\n",
       " 3.0       5290\n",
       " 0.0       5213\n",
       " 6.0       4906\n",
       "          ...  \n",
       " 150.0        1\n",
       " 126.0        1\n",
       " 138.0        1\n",
       "-7.0          1\n",
       " 116.0        1\n",
       "Name: duration, Length: 131, dtype: int64"
      ]
     },
     "execution_count": 13,
     "metadata": {},
     "output_type": "execute_result"
    }
   ],
   "source": [
    "# derive duration (appointment day - scheduled day)\n",
    "\n",
    "df['duration'] = (df['appointment_day'] - df['scheduled_day']).astype('timedelta64[D]')\n",
    "\n",
    "df['duration'].value_counts()"
   ]
  },
  {
   "cell_type": "markdown",
   "metadata": {},
   "source": [
    "*My Note:Reviewed the data and found that the -1 were same day appointments, scheduled in less than 24hours. Is there a way to subtract datetime without the time component? Decided to drop rows with less than -1 as they had appointment day before scheduled day. Possibly entry error but no way to confirm that.*"
   ]
  },
  {
   "cell_type": "code",
   "execution_count": 14,
   "metadata": {},
   "outputs": [
    {
     "data": {
      "text/html": [
       "<div>\n",
       "<style scoped>\n",
       "    .dataframe tbody tr th:only-of-type {\n",
       "        vertical-align: middle;\n",
       "    }\n",
       "\n",
       "    .dataframe tbody tr th {\n",
       "        vertical-align: top;\n",
       "    }\n",
       "\n",
       "    .dataframe thead th {\n",
       "        text-align: right;\n",
       "    }\n",
       "</style>\n",
       "<table border=\"1\" class=\"dataframe\">\n",
       "  <thead>\n",
       "    <tr style=\"text-align: right;\">\n",
       "      <th></th>\n",
       "      <th>patient_id</th>\n",
       "      <th>appointment_id</th>\n",
       "      <th>gender</th>\n",
       "      <th>scheduled_day</th>\n",
       "      <th>appointment_day</th>\n",
       "      <th>age</th>\n",
       "      <th>neighbourhood</th>\n",
       "      <th>scholarship</th>\n",
       "      <th>hypertension</th>\n",
       "      <th>diabetes</th>\n",
       "      <th>alcoholism</th>\n",
       "      <th>handicap</th>\n",
       "      <th>sms_received</th>\n",
       "      <th>no_show</th>\n",
       "      <th>duration</th>\n",
       "    </tr>\n",
       "  </thead>\n",
       "  <tbody>\n",
       "    <tr>\n",
       "      <th>27033</th>\n",
       "      <td>-2147483648</td>\n",
       "      <td>5679978</td>\n",
       "      <td>M</td>\n",
       "      <td>2016-05-10 10:51:53+00:00</td>\n",
       "      <td>2016-05-09 00:00:00+00:00</td>\n",
       "      <td>38</td>\n",
       "      <td>RESISTÊNCIA</td>\n",
       "      <td>0</td>\n",
       "      <td>0</td>\n",
       "      <td>0</td>\n",
       "      <td>0</td>\n",
       "      <td>1</td>\n",
       "      <td>0</td>\n",
       "      <td>Yes</td>\n",
       "      <td>-2.0</td>\n",
       "    </tr>\n",
       "    <tr>\n",
       "      <th>55226</th>\n",
       "      <td>-2147483648</td>\n",
       "      <td>5715660</td>\n",
       "      <td>F</td>\n",
       "      <td>2016-05-18 14:50:41+00:00</td>\n",
       "      <td>2016-05-17 00:00:00+00:00</td>\n",
       "      <td>19</td>\n",
       "      <td>SANTO ANTÔNIO</td>\n",
       "      <td>0</td>\n",
       "      <td>0</td>\n",
       "      <td>0</td>\n",
       "      <td>0</td>\n",
       "      <td>1</td>\n",
       "      <td>0</td>\n",
       "      <td>Yes</td>\n",
       "      <td>-2.0</td>\n",
       "    </tr>\n",
       "    <tr>\n",
       "      <th>64175</th>\n",
       "      <td>-2147483648</td>\n",
       "      <td>5664962</td>\n",
       "      <td>F</td>\n",
       "      <td>2016-05-05 13:43:58+00:00</td>\n",
       "      <td>2016-05-04 00:00:00+00:00</td>\n",
       "      <td>22</td>\n",
       "      <td>CONSOLAÇÃO</td>\n",
       "      <td>0</td>\n",
       "      <td>0</td>\n",
       "      <td>0</td>\n",
       "      <td>0</td>\n",
       "      <td>0</td>\n",
       "      <td>0</td>\n",
       "      <td>Yes</td>\n",
       "      <td>-2.0</td>\n",
       "    </tr>\n",
       "    <tr>\n",
       "      <th>71533</th>\n",
       "      <td>-2147483648</td>\n",
       "      <td>5686628</td>\n",
       "      <td>F</td>\n",
       "      <td>2016-05-11 13:49:20+00:00</td>\n",
       "      <td>2016-05-05 00:00:00+00:00</td>\n",
       "      <td>81</td>\n",
       "      <td>SANTO ANTÔNIO</td>\n",
       "      <td>0</td>\n",
       "      <td>0</td>\n",
       "      <td>0</td>\n",
       "      <td>0</td>\n",
       "      <td>0</td>\n",
       "      <td>0</td>\n",
       "      <td>Yes</td>\n",
       "      <td>-7.0</td>\n",
       "    </tr>\n",
       "    <tr>\n",
       "      <th>72362</th>\n",
       "      <td>-2147483648</td>\n",
       "      <td>5655637</td>\n",
       "      <td>M</td>\n",
       "      <td>2016-05-04 06:50:57+00:00</td>\n",
       "      <td>2016-05-03 00:00:00+00:00</td>\n",
       "      <td>7</td>\n",
       "      <td>TABUAZEIRO</td>\n",
       "      <td>0</td>\n",
       "      <td>0</td>\n",
       "      <td>0</td>\n",
       "      <td>0</td>\n",
       "      <td>0</td>\n",
       "      <td>0</td>\n",
       "      <td>Yes</td>\n",
       "      <td>-2.0</td>\n",
       "    </tr>\n",
       "  </tbody>\n",
       "</table>\n",
       "</div>"
      ],
      "text/plain": [
       "        patient_id appointment_id gender             scheduled_day  \\\n",
       "27033  -2147483648        5679978      M 2016-05-10 10:51:53+00:00   \n",
       "55226  -2147483648        5715660      F 2016-05-18 14:50:41+00:00   \n",
       "64175  -2147483648        5664962      F 2016-05-05 13:43:58+00:00   \n",
       "71533  -2147483648        5686628      F 2016-05-11 13:49:20+00:00   \n",
       "72362  -2147483648        5655637      M 2016-05-04 06:50:57+00:00   \n",
       "\n",
       "                appointment_day  age  neighbourhood scholarship hypertension  \\\n",
       "27033 2016-05-09 00:00:00+00:00   38    RESISTÊNCIA           0            0   \n",
       "55226 2016-05-17 00:00:00+00:00   19  SANTO ANTÔNIO           0            0   \n",
       "64175 2016-05-04 00:00:00+00:00   22     CONSOLAÇÃO           0            0   \n",
       "71533 2016-05-05 00:00:00+00:00   81  SANTO ANTÔNIO           0            0   \n",
       "72362 2016-05-03 00:00:00+00:00    7     TABUAZEIRO           0            0   \n",
       "\n",
       "      diabetes alcoholism handicap sms_received no_show  duration  \n",
       "27033        0          0        1            0     Yes      -2.0  \n",
       "55226        0          0        1            0     Yes      -2.0  \n",
       "64175        0          0        0            0     Yes      -2.0  \n",
       "71533        0          0        0            0     Yes      -7.0  \n",
       "72362        0          0        0            0     Yes      -2.0  "
      ]
     },
     "execution_count": 14,
     "metadata": {},
     "output_type": "execute_result"
    }
   ],
   "source": [
    "# assess implausible duration\n",
    "df[df['duration'] < -1] "
   ]
  },
  {
   "cell_type": "code",
   "execution_count": 15,
   "metadata": {},
   "outputs": [
    {
     "data": {
      "text/plain": [
       "count    110521.000000\n",
       "mean          9.184345\n",
       "std          15.255153\n",
       "min          -1.000000\n",
       "25%          -1.000000\n",
       "50%           3.000000\n",
       "75%          14.000000\n",
       "max         178.000000\n",
       "Name: duration, dtype: float64"
      ]
     },
     "execution_count": 15,
     "metadata": {},
     "output_type": "execute_result"
    }
   ],
   "source": [
    "# drop row with implausible duration that is appointment day before scheduled day (-1)\n",
    "df.drop( df[ df['duration'] < -1 ].index , inplace=True)\n",
    "\n",
    "#check changes\n",
    "df['duration'].describe()"
   ]
  },
  {
   "cell_type": "markdown",
   "metadata": {},
   "source": [
    "<!-- After analysing, I did not find a need for this, so I changed it to a markdown as I wanted to keep the code for learning purposes. To categorise age:\n",
    "bins= [0, 5, 10, 15, 20, 25, 30, 35, 40, 45, 50, 150]\n",
    "labels = ['<4','5-9','10-14','15-19','20-24', '25-29', '30-34', '35-39', '40-44', '45-59', '50+']\n",
    "df['age_group'] = pd.cut(df['age'], bins=bins, labels=labels, right=False)\n",
    "confirm changes\n",
    "df['age_group'].value_counts() -->"
   ]
  },
  {
   "cell_type": "code",
   "execution_count": 16,
   "metadata": {},
   "outputs": [
    {
     "data": {
      "text/plain": [
       "(110521, 15)"
      ]
     },
     "execution_count": 16,
     "metadata": {},
     "output_type": "execute_result"
    }
   ],
   "source": [
    "df.shape"
   ]
  },
  {
   "cell_type": "code",
   "execution_count": 17,
   "metadata": {},
   "outputs": [
    {
     "data": {
      "text/html": [
       "<div>\n",
       "<style scoped>\n",
       "    .dataframe tbody tr th:only-of-type {\n",
       "        vertical-align: middle;\n",
       "    }\n",
       "\n",
       "    .dataframe tbody tr th {\n",
       "        vertical-align: top;\n",
       "    }\n",
       "\n",
       "    .dataframe thead th {\n",
       "        text-align: right;\n",
       "    }\n",
       "</style>\n",
       "<table border=\"1\" class=\"dataframe\">\n",
       "  <thead>\n",
       "    <tr style=\"text-align: right;\">\n",
       "      <th></th>\n",
       "      <th>age</th>\n",
       "      <th>duration</th>\n",
       "    </tr>\n",
       "  </thead>\n",
       "  <tbody>\n",
       "    <tr>\n",
       "      <th>count</th>\n",
       "      <td>110521.000000</td>\n",
       "      <td>110521.000000</td>\n",
       "    </tr>\n",
       "    <tr>\n",
       "      <th>mean</th>\n",
       "      <td>37.089386</td>\n",
       "      <td>9.184345</td>\n",
       "    </tr>\n",
       "    <tr>\n",
       "      <th>std</th>\n",
       "      <td>23.109885</td>\n",
       "      <td>15.255153</td>\n",
       "    </tr>\n",
       "    <tr>\n",
       "      <th>min</th>\n",
       "      <td>0.000000</td>\n",
       "      <td>-1.000000</td>\n",
       "    </tr>\n",
       "    <tr>\n",
       "      <th>25%</th>\n",
       "      <td>18.000000</td>\n",
       "      <td>-1.000000</td>\n",
       "    </tr>\n",
       "    <tr>\n",
       "      <th>50%</th>\n",
       "      <td>37.000000</td>\n",
       "      <td>3.000000</td>\n",
       "    </tr>\n",
       "    <tr>\n",
       "      <th>75%</th>\n",
       "      <td>55.000000</td>\n",
       "      <td>14.000000</td>\n",
       "    </tr>\n",
       "    <tr>\n",
       "      <th>max</th>\n",
       "      <td>115.000000</td>\n",
       "      <td>178.000000</td>\n",
       "    </tr>\n",
       "  </tbody>\n",
       "</table>\n",
       "</div>"
      ],
      "text/plain": [
       "                 age       duration\n",
       "count  110521.000000  110521.000000\n",
       "mean       37.089386       9.184345\n",
       "std        23.109885      15.255153\n",
       "min         0.000000      -1.000000\n",
       "25%        18.000000      -1.000000\n",
       "50%        37.000000       3.000000\n",
       "75%        55.000000      14.000000\n",
       "max       115.000000     178.000000"
      ]
     },
     "execution_count": 17,
     "metadata": {},
     "output_type": "execute_result"
    }
   ],
   "source": [
    "df.describe()"
   ]
  },
  {
   "cell_type": "code",
   "execution_count": 18,
   "metadata": {},
   "outputs": [
    {
     "name": "stdout",
     "output_type": "stream",
     "text": [
      "<class 'pandas.core.frame.DataFrame'>\n",
      "Int64Index: 110521 entries, 0 to 110526\n",
      "Data columns (total 15 columns):\n",
      " #   Column           Non-Null Count   Dtype              \n",
      "---  ------           --------------   -----              \n",
      " 0   patient_id       110521 non-null  object             \n",
      " 1   appointment_id   110521 non-null  object             \n",
      " 2   gender           110521 non-null  object             \n",
      " 3   scheduled_day    110521 non-null  datetime64[ns, UTC]\n",
      " 4   appointment_day  110521 non-null  datetime64[ns, UTC]\n",
      " 5   age              110521 non-null  int64              \n",
      " 6   neighbourhood    110521 non-null  object             \n",
      " 7   scholarship      110521 non-null  object             \n",
      " 8   hypertension     110521 non-null  object             \n",
      " 9   diabetes         110521 non-null  object             \n",
      " 10  alcoholism       110521 non-null  object             \n",
      " 11  handicap         110521 non-null  object             \n",
      " 12  sms_received     110521 non-null  object             \n",
      " 13  no_show          110521 non-null  object             \n",
      " 14  duration         110521 non-null  float64            \n",
      "dtypes: datetime64[ns, UTC](2), float64(1), int64(1), object(11)\n",
      "memory usage: 13.5+ MB\n"
     ]
    }
   ],
   "source": [
    "df.info()"
   ]
  },
  {
   "cell_type": "markdown",
   "metadata": {},
   "source": [
    "This dataset has 110,521 rows and 15 columns.\n",
    "\n",
    "**Clean Data Dictionary**\n",
    "\n",
    "| Column | Datatype | Description |\n",
    "| --- | --- | --- |\n",
    "| patient_id | str | Identification of a patient |\n",
    "| appointment_id | str | Identification of each appointment |\n",
    "| gender | str | 1 - Male or 0 - Female |\n",
    "| scheduled_day | datetime | The day someone called or registered the appointment |\n",
    "| appointment_day | datetime | The day of the actual appointment, when they have to visit the hospital |\n",
    "| age | Int | How old is the patient in years. |\n",
    "| neighbourhood | str | Where the hospital is located |\n",
    "| scholarship | str | indicates whether or not the patient is enrolled in Brasilian <br> welfare program Bolsa Família. 0 - True or 1 - False |\n",
    "| hypertension | str | 0 - True or 1 - False|\n",
    "| aiabetes | str | 0 - True or 1 - False|\n",
    "| alcoholism | str | 0 - True or 1 - False |\n",
    "| handicap | str | 0, 1, 2, 3, 4 - there was no dictionary explaining what each represents|\n",
    "| sms_received | str | 1 or more messages sent to the patient: 0 - True, 1 - False |\n",
    "| no_show | str | No - Show or Yes - No Show |\n",
    "| duration | float | calculated by susbtracting appointment day from scheduled day (days)|"
   ]
  },
  {
   "cell_type": "markdown",
   "metadata": {},
   "source": [
    "### <a id='eda'></a>\n",
    "## Exploratory Data Analysis and Draw Conclusions"
   ]
  },
  {
   "cell_type": "markdown",
   "metadata": {},
   "source": [
    "### Research Question 1- 'What factors associated with no-show for scheduled appointment?'"
   ]
  },
  {
   "cell_type": "code",
   "execution_count": 19,
   "metadata": {},
   "outputs": [
    {
     "data": {
      "text/plain": [
       "no_show\n",
       "No     88207\n",
       "Yes    22314\n",
       "Name: patient_id, dtype: int64"
      ]
     },
     "execution_count": 19,
     "metadata": {},
     "output_type": "execute_result"
    }
   ],
   "source": [
    "no_show_total = df.groupby('no_show').count()['patient_id']\n",
    "no_show_total"
   ]
  },
  {
   "cell_type": "code",
   "execution_count": 20,
   "metadata": {},
   "outputs": [],
   "source": [
    "#group the independent variable\n",
    "showed = df.no_show == 'No'\n",
    "missed = df.no_show == 'Yes'"
   ]
  },
  {
   "cell_type": "code",
   "execution_count": 21,
   "metadata": {},
   "outputs": [
    {
     "data": {
      "image/png": "[encoded data removed]",
      "text/plain": [
       "<Figure size 432x288 with 1 Axes>"
      ]
     },
     "metadata": {
      "needs_background": "light"
     },
     "output_type": "display_data"
    }
   ],
   "source": [
    "df.age[showed].hist(alpha=0.5, label = 'showed')\n",
    "df.age[missed].hist(alpha=0.5, label = 'missed')\n",
    "plt.legend();"
   ]
  },
  {
   "cell_type": "code",
   "execution_count": 22,
   "metadata": {},
   "outputs": [
    {
     "data": {
      "text/plain": [
       "38.0"
      ]
     },
     "execution_count": 22,
     "metadata": {},
     "output_type": "execute_result"
    }
   ],
   "source": [
    "df.age[showed].median()"
   ]
  },
  {
   "cell_type": "code",
   "execution_count": 23,
   "metadata": {},
   "outputs": [
    {
     "data": {
      "text/plain": [
       "33.0"
      ]
     },
     "execution_count": 23,
     "metadata": {},
     "output_type": "execute_result"
    }
   ],
   "source": [
    "df.age[missed].median()"
   ]
  },
  {
   "cell_type": "markdown",
   "metadata": {},
   "source": [
    "**a. Is age associated with no-show?**\n",
    "\n",
    "Age is numerical and skewed, hence the best descriptive statistics will be median.\n",
    "Younger people missed more appointments when compared against the age of those who show-up for appointment. Overall sample size per age might have play a role in this.\n",
    "Compared with other ages, those less than 10 show-up for most appointments.\n",
    "\n",
    "for <a href=\"https://pandas.pydata.org/pandas-docs/version/0.23.4/generated/pandas.crosstab.html\" target=\"_blank\">crosstab</a>\n",
    "\n"
   ]
  },
  {
   "cell_type": "code",
   "execution_count": 24,
   "metadata": {},
   "outputs": [],
   "source": [
    "# df.groupby('diabetes').showed.median() #this didnt work\n",
    "\n",
    "# this didn't work. All efforts to troubleshot it - including changing datatype, failed."
   ]
  },
  {
   "cell_type": "code",
   "execution_count": 25,
   "metadata": {},
   "outputs": [
    {
     "name": "stdout",
     "output_type": "stream",
     "text": [
      "no_show     No    Yes     All  proportion\n",
      "gender                                   \n",
      "F        57245  14591   71836   20.311543\n",
      "M        30962   7723   38685   19.963810\n",
      "All      88207  22314  110521   20.189828\n"
     ]
    }
   ],
   "source": [
    "# frequency table for gender by no-show\n",
    "\n",
    "summary_gender = pd.crosstab(index=df['gender'], columns=df['no_show'], margins =True)\n",
    "summary_gender['proportion'] = summary_gender['Yes']/summary_gender['All']*100\n",
    "print(summary_gender)"
   ]
  },
  {
   "cell_type": "code",
   "execution_count": 26,
   "metadata": {
    "scrolled": true
   },
   "outputs": [
    {
     "data": {
      "image/png": "[encoded data removed]",
      "text/plain": [
       "<Figure size 432x288 with 1 Axes>"
      ]
     },
     "metadata": {
      "needs_background": "light"
     },
     "output_type": "display_data"
    }
   ],
   "source": [
    "# Create a bar chart\n",
    "locations = [1, 2, 3]\n",
    "heights = summary_gender['proportion']\n",
    "labels = ['Female', 'Male', 'All']\n",
    "plt.bar(locations, heights, tick_label=labels)\n",
    "plt.title('Proportion of People who missed appointment by gender')\n",
    "plt.xlabel('Gender')\n",
    "plt.ylabel('Number of Individuals');"
   ]
  },
  {
   "cell_type": "markdown",
   "metadata": {},
   "source": [
    "**b. Which gender miss appointment more?**\n",
    "\n",
    "Although the number of female was almost 2x the number of males, 20.31% of female missed appointment compared to 19.96% of male. A statistical test (chi-squared) who be perfect to assess this association."
   ]
  },
  {
   "cell_type": "code",
   "execution_count": 27,
   "metadata": {
    "scrolled": false
   },
   "outputs": [
    {
     "data": {
      "text/plain": [
       "<matplotlib.legend.Legend at 0x199c1486a60>"
      ]
     },
     "execution_count": 27,
     "metadata": {},
     "output_type": "execute_result"
    },
    {
     "data": {
      "image/png": "[encoded data removed]",
      "text/plain": [
       "<Figure size 432x288 with 1 Axes>"
      ]
     },
     "metadata": {
      "needs_background": "light"
     },
     "output_type": "display_data"
    }
   ],
   "source": [
    "scholarship_counts = df.groupby([ 'no_show', 'scholarship']).count()['patient_id']\n",
    "scholarship_proportions = (scholarship_counts['No'] / no_show_total['No']) * 100\n",
    "scholarship_proportions2 = (scholarship_counts['Yes'] / no_show_total['Yes']) * 100\n",
    "\n",
    "ind = np.arange(len(scholarship_proportions))\n",
    "width = 0.35\n",
    "\n",
    "# plot bars\n",
    "No_bars = plt.bar(ind, scholarship_proportions, width, color='r', alpha=.7, label='Show')\n",
    "Yes_bars = plt.bar(ind + width, scholarship_proportions2, width, color='b', alpha=.7, label='No Show')\n",
    "\n",
    "# title and labels\n",
    "plt.ylabel('Percentage')\n",
    "plt.xlabel('Scholarship')\n",
    "plt.title('Percentage by no-show  and scholarship')\n",
    "locations = ind + width / 2  # xtick locations\n",
    "labels = ['0=True', '1=False']  # xtick labels\n",
    "plt.xticks(locations, labels)\n",
    "\n",
    "# legend\n",
    "plt.legend()"
   ]
  },
  {
   "cell_type": "code",
   "execution_count": 28,
   "metadata": {},
   "outputs": [
    {
     "name": "stdout",
     "output_type": "stream",
     "text": [
      "no_show         No    Yes     All  proportion\n",
      "scholarship                                  \n",
      "0            79924  19736   99660   19.803331\n",
      "1             8283   2578   10861   23.736304\n",
      "All          88207  22314  110521   20.189828\n"
     ]
    }
   ],
   "source": [
    "# frequency table for gender by no-show\n",
    "summary_scholarship = pd.crosstab(index=df['scholarship'], columns=df['no_show'], margins =True)\n",
    "summary_scholarship['proportion'] = summary_scholarship['Yes']/summary_scholarship['All']*100\n",
    "print(summary_scholarship)"
   ]
  },
  {
   "cell_type": "markdown",
   "metadata": {},
   "source": [
    "**c. What is the association between scholarship and no-show?** <br>\n",
    "Although the number of people on scholarship was 9x those without scholarship, 23.7% of those without scholarship missed appointment compared to 19.8% of among patients with scholarship. A statistical test (chi-squared) who be perfect to assess this association"
   ]
  },
  {
   "cell_type": "code",
   "execution_count": 29,
   "metadata": {},
   "outputs": [
    {
     "name": "stdout",
     "output_type": "stream",
     "text": [
      "no_show      No    Yes     All  proportion\n",
      "handicap                                  \n",
      "0         86373  21909  108282   20.233280\n",
      "1          1676    364    2040   17.843137\n",
      "2           146     37     183   20.218579\n",
      "3            10      3      13   23.076923\n",
      "4             2      1       3   33.333333\n",
      "All       88207  22314  110521   20.189828\n"
     ]
    }
   ],
   "source": [
    "# frequency table for category variables\n",
    "summary_table = pd.crosstab(index=df['handicap'], columns=df['no_show'], margins =True)\n",
    "summary_table['proportion'] = summary_table['Yes']/summary_table['All']*100\n",
    "print(summary_table)"
   ]
  },
  {
   "cell_type": "markdown",
   "metadata": {},
   "source": [
    "I decided to not conduct deepdive on the association of handicap and appointment as there was no information on what each category represents. In the real world, I would seek such information and conduct the analysis as it can be hypothesised that handicap status will be associated with missed apppointments."
   ]
  },
  {
   "cell_type": "markdown",
   "metadata": {},
   "source": [
    "### Research Question 2- Is duration (appointment day - scheduled day) associated with no-show?"
   ]
  },
  {
   "cell_type": "code",
   "execution_count": 30,
   "metadata": {
    "scrolled": true
   },
   "outputs": [
    {
     "data": {
      "image/png": "[encoded data removed]",
      "text/plain": [
       "<Figure size 432x288 with 1 Axes>"
      ]
     },
     "metadata": {
      "needs_background": "light"
     },
     "output_type": "display_data"
    }
   ],
   "source": [
    "df['duration'].plot(kind='hist');"
   ]
  },
  {
   "cell_type": "code",
   "execution_count": 31,
   "metadata": {
    "scrolled": true
   },
   "outputs": [
    {
     "data": {
      "image/png": "[encoded data removed]",
      "text/plain": [
       "<Figure size 432x288 with 1 Axes>"
      ]
     },
     "metadata": {
      "needs_background": "light"
     },
     "output_type": "display_data"
    }
   ],
   "source": [
    "df.plot(x='no_show', y='duration', kind='scatter');"
   ]
  },
  {
   "cell_type": "code",
   "execution_count": 32,
   "metadata": {},
   "outputs": [
    {
     "data": {
      "text/plain": [
       "1.0"
      ]
     },
     "execution_count": 32,
     "metadata": {},
     "output_type": "execute_result"
    }
   ],
   "source": [
    "df.duration[showed].median()"
   ]
  },
  {
   "cell_type": "code",
   "execution_count": 33,
   "metadata": {},
   "outputs": [
    {
     "data": {
      "text/plain": [
       "10.0"
      ]
     },
     "execution_count": 33,
     "metadata": {},
     "output_type": "execute_result"
    }
   ],
   "source": [
    "df.duration[missed].median()"
   ]
  },
  {
   "cell_type": "code",
   "execution_count": 34,
   "metadata": {},
   "outputs": [
    {
     "data": {
      "image/png": "[encoded data removed]",
      "text/plain": [
       "<Figure size 432x288 with 1 Axes>"
      ]
     },
     "metadata": {
      "needs_background": "light"
     },
     "output_type": "display_data"
    }
   ],
   "source": [
    "df.duration[showed].hist(alpha=0.5, label = 'showed')\n",
    "df.duration[missed].hist(alpha=0.5, label = 'missed')\n",
    "plt.legend();"
   ]
  },
  {
   "cell_type": "markdown",
   "metadata": {},
   "source": [
    "The median duration(days) for those who showed for appointment and missed appointment was 1 and 10 respectively. This indicates that the closer an appointment is to the schedule day is a factor to consider in no-show. <br> Overall, patients showed the most for appointments <20 days."
   ]
  },
  {
   "cell_type": "markdown",
   "metadata": {},
   "source": [
    "<a id='conclusions'></a>\n",
    "## Conclusions\n",
    "In response to the analysis questions posed, the findings indicates the following.\n",
    "1. What factors are important to predict if a patient will show up for scheduled appointment?<br>\n",
    "> *age, gender and scholarship* are important to predict if a patient will show for appointment.\n",
    "\n",
    "2. Is duration (appointment day - scheduled day) associated with no-show?<br>\n",
    ">Yes, duration is associated with no-show. More patients showed for appointments with a duration that is shorter than 20 days.\n",
    "\n",
    "Based on the results from this analysis, it is recommended that shorter duration be given to patients seeking appointments. Also, SMS or email reminder should be considered and targeted to patients who are more likely to miss appointments. These includes those 10+ years old, females and people not on scholarship.\n",
    "### Limitation(s)\n",
    "* Information on the coding for handicap status was not provided.\n",
    "* No statistical tests was done, therefore no statistical conclusions can be drawn.\n"
   ]
  }
 ],
 "metadata": {
  "kernelspec": {
   "display_name": "Python 3",
   "language": "python",
   "name": "python3"
  },
  "language_info": {
   "codemirror_mode": {
    "name": "ipython",
    "version": 3
   },
   "file_extension": ".py",
   "mimetype": "text/x-python",
   "name": "python",
   "nbconvert_exporter": "python",
   "pygments_lexer": "ipython3",
   "version": "3.8.5"
  }
 },
 "nbformat": 4,
 "nbformat_minor": 2
}
